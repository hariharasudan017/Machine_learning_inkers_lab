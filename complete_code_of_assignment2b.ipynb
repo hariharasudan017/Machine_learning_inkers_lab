{
  "nbformat": 4,
  "nbformat_minor": 0,
  "metadata": {
    "colab": {
      "name": "complete code of assignment2b.ipynb",
      "version": "0.3.2",
      "provenance": [],
      "collapsed_sections": []
    },
    "kernelspec": {
      "name": "python3",
      "display_name": "Python 3"
    }
  },
  "cells": [
    {
      "cell_type": "markdown",
      "metadata": {
        "id": "view-in-github",
        "colab_type": "text"
      },
      "source": [
        "[View in Colaboratory](https://colab.research.google.com/github/hariharasudan017/Machine_learning_inkers_lab/blob/master/complete_code_of_assignment2b.ipynb)"
      ]
    },
    {
      "metadata": {
        "id": "odrypbuNrlR4",
        "colab_type": "code",
        "colab": {
          "base_uri": "https://localhost:8080/",
          "height": 833
        },
        "outputId": "64f893b2-d951-498b-c61c-3898dce89678"
      },
      "cell_type": "code",
      "source": [
        "import numpy as np\n",
        "from numpy import array,exp,round\n",
        "import math\n",
        "\n",
        "def sigmoid(x):\n",
        "    sigma =1/(1+np.exp(-x))\n",
        "    return sigma\n",
        "\n",
        "def deriv_sigmoid(x):\n",
        "    d=x*(1-x)\n",
        "    return d\n",
        "\n",
        "#wh=np.array([[0.42,0.88,0.55],[0.10,0.73,0.68],[0.60,0.18,0.47],[0.92,0.11,0.52]])\n",
        "#bh=np.array([0.46,0.72,0.08])\n",
        "#wout=np.array([[0.30],[0.25],[0.23]])\n",
        "#bout=np.array([0.69])\n",
        "\n",
        "wh=np.random.rand(4,3)\n",
        "bh=np.random.rand(1,3)\n",
        "wout=np.random.rand(3,1)\n",
        "bout=np.random.rand(1)\n",
        "y=np.array([[1],[1],[0]])\n",
        "X=np.array([[1,0,1,0],[1,0,1,1],[0,1,0,1]])\n",
        "wh=round(wh, 2)\n",
        "bh=round(bh, 2)\n",
        "wout=round(wout, 2)\n",
        "bout=round(bout, 2)\n",
        "print(wh)\n",
        "print(bh)\n",
        "print(wout)\n",
        "print(bout)\n",
        "\n",
        "hidden_layer_input= (X.dot(wh))+bh\n",
        "print(hidden_layer_input)\n",
        "\n",
        "hidden_layer_activation=sigmoid(hidden_layer_input)\n",
        "hidden_layer_activation= round(hidden_layer_activation, 2)\n",
        "print(hidden_layer_activation)\n",
        "\n",
        "output_layer_input=(hidden_layer_activation.dot(wout))+bout\n",
        "output_layer_input=round(output_layer_input, 2)\n",
        "print(output_layer_input)\n",
        "\n",
        "output=sigmoid(output_layer_input)\n",
        "output=round(output, 2)\n",
        "print(output)\n",
        "\n",
        "output=np.reshape(output,(3,1))\n",
        "error=y-output\n",
        "print(error)\n",
        "\n",
        "slope_output_layer=deriv_sigmoid(output)\n",
        "slope_output_layer=round(slope_output_layer, 2)\n",
        "print(slope_output_layer)\n",
        "\n",
        "slope_hidden_layer=deriv_sigmoid(hidden_layer_activation)\n",
        "slope_hidden_layer=round(slope_hidden_layer, 2)\n",
        "print(slope_hidden_layer)\n",
        "\n",
        "lr=1\n",
        "d_output=error*slope_output_layer\n",
        "d_output=d_output*lr\n",
        "d_output=round(d_output, 2)\n",
        "print(d_output)\n",
        "\n",
        "Error_at_hidden_layer=np.dot(d_output,wout.T)\n",
        "print(Error_at_hidden_layer)\n",
        "\n",
        "d_hidden_layer = Error_at_hidden_layer * slope_hidden_layer\n",
        "d_hidden_layer =round(d_hidden_layer, 3)\n",
        "print(d_hidden_layer)\n",
        "\n",
        "lr= 0.1\n",
        "wout=wout+np.dot(hidden_layer_activation.T,d_output)*lr\n",
        "wout=round(wout, 2)\n",
        "print(wout)\n",
        "\n",
        "wh=wh+(np.dot(X.T,d_hidden_layer)*lr)\n",
        "wh=round(wh, 2)\n",
        "print(wh)\n",
        "\n",
        "bh=bh+np.sum(d_hidden_layer,axis=0)*lr\n",
        "print(bh)\n",
        "\n",
        "bout=bout+np.sum(d_output,axis=0)*lr\n",
        "bout=round(bout, 2)\n",
        "print(bout)"
      ],
      "execution_count": 80,
      "outputs": [
        {
          "output_type": "stream",
          "text": [
            "[[0.71 0.56 0.27]\n",
            " [0.73 0.12 0.36]\n",
            " [0.59 0.02 0.51]\n",
            " [0.3  0.29 0.45]]\n",
            "[[0.81 0.04 0.29]]\n",
            "[[0.16]\n",
            " [0.23]\n",
            " [0.82]]\n",
            "[0.52]\n",
            "[[2.11 0.62 1.07]\n",
            " [2.41 0.91 1.52]\n",
            " [1.84 0.45 1.1 ]]\n",
            "[[0.89 0.65 0.74]\n",
            " [0.92 0.71 0.82]\n",
            " [0.86 0.61 0.75]]\n",
            "[[1.42]\n",
            " [1.5 ]\n",
            " [1.41]]\n",
            "[[0.81]\n",
            " [0.82]\n",
            " [0.8 ]]\n",
            "[[ 0.19]\n",
            " [ 0.18]\n",
            " [-0.8 ]]\n",
            "[[0.15]\n",
            " [0.15]\n",
            " [0.16]]\n",
            "[[0.1  0.23 0.19]\n",
            " [0.07 0.21 0.15]\n",
            " [0.12 0.24 0.19]]\n",
            "[[ 0.03]\n",
            " [ 0.03]\n",
            " [-0.13]]\n",
            "[[ 0.0048  0.0069  0.0246]\n",
            " [ 0.0048  0.0069  0.0246]\n",
            " [-0.0208 -0.0299 -0.1066]]\n",
            "[[ 0.     0.002  0.005]\n",
            " [ 0.     0.001  0.004]\n",
            " [-0.002 -0.007 -0.02 ]]\n",
            "[[0.15]\n",
            " [0.23]\n",
            " [0.81]]\n",
            "[[0.71 0.56 0.27]\n",
            " [0.73 0.12 0.36]\n",
            " [0.59 0.02 0.51]\n",
            " [0.3  0.29 0.45]]\n",
            "[[0.8098 0.0396 0.2889]]\n",
            "[0.51]\n"
          ],
          "name": "stdout"
        }
      ]
    },
    {
      "metadata": {
        "id": "mt_j2aZbBHcT",
        "colab_type": "code",
        "colab": {}
      },
      "cell_type": "code",
      "source": [
        ""
      ],
      "execution_count": 0,
      "outputs": []
    },
    {
      "metadata": {
        "id": "KpURVH5xPU7M",
        "colab_type": "code",
        "colab": {}
      },
      "cell_type": "code",
      "source": [
        ""
      ],
      "execution_count": 0,
      "outputs": []
    }
  ]
}